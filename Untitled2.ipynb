{
 "cells": [
  {
   "cell_type": "code",
   "execution_count": 1,
   "metadata": {},
   "outputs": [],
   "source": [
    "from glob import glob\n",
    "import fnmatch\n",
    "import cv2\n",
    "import numpy as np\n",
    "import pandas as pd\n",
    "import matplotlib.pyplot as plt\n",
    "imagePatches = glob('C:/Users/Hanane/Downloads/IDC_regular_ps50_idx5/**/*.png', recursive=True)\n",
    "patternZero = '*class0.png'\n",
    "patternOne = '*class1.png'"
   ]
  },
  {
   "cell_type": "code",
   "execution_count": 2,
   "metadata": {},
   "outputs": [],
   "source": [
    "classZero = fnmatch.filter(imagePatches, patternZero)\n",
    "classOne = fnmatch.filter(imagePatches, patternOne)"
   ]
  },
  {
   "cell_type": "code",
   "execution_count": 3,
   "metadata": {},
   "outputs": [],
   "source": [
    "def process_images(lowerIndex,upperIndex):\n",
    "\n",
    "    height = 50\n",
    "    width = 50\n",
    "    channels = 3\n",
    "    x = [] \n",
    "    y = [] \n",
    "    for img in imagePatches[lowerIndex:upperIndex]:\n",
    "        \n",
    "        full_size_image = cv2.imread(img)\n",
    "        \n",
    "        image = (cv2.resize(full_size_image, (width,height), interpolation=cv2.INTER_CUBIC))\n",
    "       \n",
    "        x.append(image)\n",
    "        if img in classZero:\n",
    "            y.append(0)\n",
    "        elif img in classOne:\n",
    "            y.append(1)\n",
    "        else:\n",
    "            return\n",
    "    return x,y"
   ]
  },
  {
   "cell_type": "code",
   "execution_count": 4,
   "metadata": {},
   "outputs": [],
   "source": [
    " X,Y = process_images(0,100000)"
   ]
  },
  {
   "cell_type": "code",
   "execution_count": 5,
   "metadata": {},
   "outputs": [],
   "source": [
    "X = np.array(X)\n",
    "X = X.astype(np.float32) \n",
    "X /= 255."
   ]
  },
  {
   "cell_type": "code",
   "execution_count": 6,
   "metadata": {},
   "outputs": [],
   "source": [
    "from sklearn.model_selection import train_test_split\n",
    "X_train, X_test, y_train, y_test = train_test_split(X,Y,test_size=0.15)"
   ]
  },
  {
   "cell_type": "code",
   "execution_count": 7,
   "metadata": {},
   "outputs": [
    {
     "name": "stderr",
     "output_type": "stream",
     "text": [
      "Using TensorFlow backend.\n"
     ]
    }
   ],
   "source": [
    "from keras.utils.np_utils import to_categorical\n",
    "y_train = to_categorical(y_train)\n",
    "y_test = to_categorical(y_test)"
   ]
  },
  {
   "cell_type": "code",
   "execution_count": 8,
   "metadata": {},
   "outputs": [],
   "source": [
    "X_trainShape = X_train.shape[1]*X_train.shape[2]*X_train.shape[3]\n",
    "X_testShape = X_test.shape[1]*X_test.shape[2]*X_test.shape[3]\n",
    "X_trainFlat = X_train.reshape(X_train.shape[0], X_trainShape)\n",
    "X_testFlat = X_test.reshape(X_test.shape[0], X_testShape)"
   ]
  },
  {
   "cell_type": "code",
   "execution_count": 9,
   "metadata": {},
   "outputs": [],
   "source": [
    "from imblearn.under_sampling import RandomUnderSampler \n",
    "random_under_sampler = RandomUnderSampler(ratio='majority')\n",
    "X_trainRos, Y_trainRos = random_under_sampler.fit_sample(X_trainFlat, y_train)\n",
    "X_testRos, Y_testRos = random_under_sampler.fit_sample(X_testFlat, y_test)"
   ]
  },
  {
   "cell_type": "code",
   "execution_count": 11,
   "metadata": {},
   "outputs": [
    {
     "data": {
      "text/plain": [
       "<keras.layers.pooling.MaxPooling2D at 0x272fe6558d0>"
      ]
     },
     "execution_count": 11,
     "metadata": {},
     "output_type": "execute_result"
    }
   ],
   "source": [
    "import keras\n",
    "from keras.applications import VGG19\n",
    "vgg_model = VGG19(weights='imagenet', include_top=False,input_shape=(50, 50, 3))\n",
    "\n",
    "vgg_model.layers.pop()\n",
    "\n"
   ]
  },
  {
   "cell_type": "code",
   "execution_count": 17,
   "metadata": {},
   "outputs": [
    {
     "name": "stdout",
     "output_type": "stream",
     "text": [
      "Model: \"sequential_4\"\n",
      "_________________________________________________________________\n",
      "Layer (type)                 Output Shape              Param #   \n",
      "=================================================================\n",
      "block1_conv1 (Conv2D)        (None, 50, 50, 64)        1792      \n",
      "_________________________________________________________________\n",
      "block1_conv2 (Conv2D)        (None, 50, 50, 64)        36928     \n",
      "_________________________________________________________________\n",
      "block1_pool (MaxPooling2D)   (None, 25, 25, 64)        0         \n",
      "_________________________________________________________________\n",
      "block2_conv1 (Conv2D)        (None, 25, 25, 128)       73856     \n",
      "_________________________________________________________________\n",
      "block2_conv2 (Conv2D)        (None, 25, 25, 128)       147584    \n",
      "_________________________________________________________________\n",
      "block2_pool (MaxPooling2D)   (None, 12, 12, 128)       0         \n",
      "_________________________________________________________________\n",
      "block3_conv1 (Conv2D)        (None, 12, 12, 256)       295168    \n",
      "_________________________________________________________________\n",
      "block3_conv2 (Conv2D)        (None, 12, 12, 256)       590080    \n",
      "_________________________________________________________________\n",
      "block3_conv3 (Conv2D)        (None, 12, 12, 256)       590080    \n",
      "_________________________________________________________________\n",
      "block3_conv4 (Conv2D)        (None, 12, 12, 256)       590080    \n",
      "_________________________________________________________________\n",
      "block3_pool (MaxPooling2D)   (None, 6, 6, 256)         0         \n",
      "_________________________________________________________________\n",
      "block4_conv1 (Conv2D)        (None, 6, 6, 512)         1180160   \n",
      "_________________________________________________________________\n",
      "block4_conv2 (Conv2D)        (None, 6, 6, 512)         2359808   \n",
      "_________________________________________________________________\n",
      "block4_conv3 (Conv2D)        (None, 6, 6, 512)         2359808   \n",
      "_________________________________________________________________\n",
      "block4_conv4 (Conv2D)        (None, 6, 6, 512)         2359808   \n",
      "_________________________________________________________________\n",
      "block4_pool (MaxPooling2D)   (None, 3, 3, 512)         0         \n",
      "_________________________________________________________________\n",
      "block5_conv1 (Conv2D)        (None, 3, 3, 512)         2359808   \n",
      "_________________________________________________________________\n",
      "block5_conv2 (Conv2D)        (None, 3, 3, 512)         2359808   \n",
      "_________________________________________________________________\n",
      "block5_conv3 (Conv2D)        (None, 3, 3, 512)         2359808   \n",
      "_________________________________________________________________\n",
      "block5_conv4 (Conv2D)        (None, 3, 3, 512)         2359808   \n",
      "=================================================================\n",
      "Total params: 20,024,384\n",
      "Trainable params: 0\n",
      "Non-trainable params: 20,024,384\n",
      "_________________________________________________________________\n"
     ]
    }
   ],
   "source": [
    "from keras.models import Sequential\n",
    "from keras.layers.core import Dense,Flatten\n",
    "model = Sequential()\n",
    "\n",
    "for layer in vgg_model.layers:\n",
    "    model.add(layer)\n",
    "for layer in model.layers:\n",
    "    layer.trainable=False\n",
    "model.summary() \n"
   ]
  },
  {
   "cell_type": "code",
   "execution_count": 18,
   "metadata": {},
   "outputs": [
    {
     "name": "stdout",
     "output_type": "stream",
     "text": [
      "Model: \"sequential_4\"\n",
      "_________________________________________________________________\n",
      "Layer (type)                 Output Shape              Param #   \n",
      "=================================================================\n",
      "block1_conv1 (Conv2D)        (None, 50, 50, 64)        1792      \n",
      "_________________________________________________________________\n",
      "block1_conv2 (Conv2D)        (None, 50, 50, 64)        36928     \n",
      "_________________________________________________________________\n",
      "block1_pool (MaxPooling2D)   (None, 25, 25, 64)        0         \n",
      "_________________________________________________________________\n",
      "block2_conv1 (Conv2D)        (None, 25, 25, 128)       73856     \n",
      "_________________________________________________________________\n",
      "block2_conv2 (Conv2D)        (None, 25, 25, 128)       147584    \n",
      "_________________________________________________________________\n",
      "block2_pool (MaxPooling2D)   (None, 12, 12, 128)       0         \n",
      "_________________________________________________________________\n",
      "block3_conv1 (Conv2D)        (None, 12, 12, 256)       295168    \n",
      "_________________________________________________________________\n",
      "block3_conv2 (Conv2D)        (None, 12, 12, 256)       590080    \n",
      "_________________________________________________________________\n",
      "block3_conv3 (Conv2D)        (None, 12, 12, 256)       590080    \n",
      "_________________________________________________________________\n",
      "block3_conv4 (Conv2D)        (None, 12, 12, 256)       590080    \n",
      "_________________________________________________________________\n",
      "block3_pool (MaxPooling2D)   (None, 6, 6, 256)         0         \n",
      "_________________________________________________________________\n",
      "block4_conv1 (Conv2D)        (None, 6, 6, 512)         1180160   \n",
      "_________________________________________________________________\n",
      "block4_conv2 (Conv2D)        (None, 6, 6, 512)         2359808   \n",
      "_________________________________________________________________\n",
      "block4_conv3 (Conv2D)        (None, 6, 6, 512)         2359808   \n",
      "_________________________________________________________________\n",
      "block4_conv4 (Conv2D)        (None, 6, 6, 512)         2359808   \n",
      "_________________________________________________________________\n",
      "block4_pool (MaxPooling2D)   (None, 3, 3, 512)         0         \n",
      "_________________________________________________________________\n",
      "block5_conv1 (Conv2D)        (None, 3, 3, 512)         2359808   \n",
      "_________________________________________________________________\n",
      "block5_conv2 (Conv2D)        (None, 3, 3, 512)         2359808   \n",
      "_________________________________________________________________\n",
      "block5_conv3 (Conv2D)        (None, 3, 3, 512)         2359808   \n",
      "_________________________________________________________________\n",
      "block5_conv4 (Conv2D)        (None, 3, 3, 512)         2359808   \n",
      "_________________________________________________________________\n",
      "flatten_4 (Flatten)          (None, 4608)              0         \n",
      "_________________________________________________________________\n",
      "dense_10 (Dense)             (None, 128)               589952    \n",
      "_________________________________________________________________\n",
      "dense_11 (Dense)             (None, 128)               16512     \n",
      "_________________________________________________________________\n",
      "dense_12 (Dense)             (None, 2)                 258       \n",
      "=================================================================\n",
      "Total params: 20,631,106\n",
      "Trainable params: 606,722\n",
      "Non-trainable params: 20,024,384\n",
      "_________________________________________________________________\n"
     ]
    }
   ],
   "source": [
    "model.add(Flatten())   \n",
    "model.add(Dense(128, activation='relu'))   \n",
    "model.add(Dense(128, activation='relu'))   \n",
    "model.add(Dense(2, activation='sigmoid'))  \n",
    "model.summary()"
   ]
  },
  {
   "cell_type": "code",
   "execution_count": 19,
   "metadata": {},
   "outputs": [],
   "source": [
    "import keras\n",
    "model.compile(loss=keras.losses.binary_crossentropy,\n",
    "              optimizer=keras.optimizers.Adam(lr=0.00001),\n",
    "              metrics=['accuracy'])"
   ]
  },
  {
   "cell_type": "code",
   "execution_count": 20,
   "metadata": {},
   "outputs": [],
   "source": [
    "from keras.preprocessing.image import ImageDataGenerator\n",
    "datagen = ImageDataGenerator(\n",
    "    featurewise_center=True,\n",
    "    featurewise_std_normalization=True,\n",
    "    rotation_range=180,\n",
    "    horizontal_flip=True,vertical_flip = True)"
   ]
  },
  {
   "cell_type": "code",
   "execution_count": 21,
   "metadata": {},
   "outputs": [],
   "source": [
    "from keras.callbacks import ModelCheckpoint,  EarlyStopping\n",
    "early_stopping_monitor = EarlyStopping(monitor='val_loss', patience=3, mode='min')"
   ]
  },
  {
   "cell_type": "code",
   "execution_count": 22,
   "metadata": {},
   "outputs": [],
   "source": [
    "model_checkpoint = ModelCheckpoint('best_model.h5', monitor='val_loss', mode='min', verbose=1, save_best_only=True)"
   ]
  },
  {
   "cell_type": "code",
   "execution_count": 23,
   "metadata": {},
   "outputs": [],
   "source": [
    "Y_trainRosHot = to_categorical(Y_trainRos, num_classes = 2)\n",
    "Y_testRosHot = to_categorical(Y_testRos, num_classes = 2)"
   ]
  },
  {
   "cell_type": "code",
   "execution_count": 24,
   "metadata": {},
   "outputs": [],
   "source": [
    "for i in range(len(X_trainRos)):\n",
    "    height, width, channels = 50,50,3,\n",
    "    X_trainRosReshaped = X_trainRos.reshape(len(X_trainRos),height,width,channels)"
   ]
  },
  {
   "cell_type": "code",
   "execution_count": 25,
   "metadata": {},
   "outputs": [],
   "source": [
    "for i in range(len(X_testRos)):\n",
    "    height, width, channels = 50,50,3\n",
    "    X_testRosReshaped = X_testRos.reshape(len(X_testRos),height,width,channels)"
   ]
  },
  {
   "cell_type": "code",
   "execution_count": 26,
   "metadata": {},
   "outputs": [
    {
     "name": "stdout",
     "output_type": "stream",
     "text": [
      "Epoch 1/80\n"
     ]
    },
    {
     "name": "stderr",
     "output_type": "stream",
     "text": [
      "C:\\Users\\Hanane\\AppData\\Local\\Continuum\\anaconda3\\lib\\site-packages\\keras_preprocessing\\image\\image_data_generator.py:716: UserWarning: This ImageDataGenerator specifies `featurewise_center`, but it hasn't been fit on any training data. Fit it first by calling `.fit(numpy_data)`.\n",
      "  warnings.warn('This ImageDataGenerator specifies '\n",
      "C:\\Users\\Hanane\\AppData\\Local\\Continuum\\anaconda3\\lib\\site-packages\\keras_preprocessing\\image\\image_data_generator.py:724: UserWarning: This ImageDataGenerator specifies `featurewise_std_normalization`, but it hasn't been fit on any training data. Fit it first by calling `.fit(numpy_data)`.\n",
      "  warnings.warn('This ImageDataGenerator specifies '\n"
     ]
    },
    {
     "name": "stdout",
     "output_type": "stream",
     "text": [
      "194/193 [==============================] - 938s 5s/step - loss: 0.6573 - accuracy: 0.6475 - val_loss: 0.6170 - val_accuracy: 0.6895\n",
      "\n",
      "Epoch 00001: val_loss improved from inf to 0.61699, saving model to best_model.h5\n",
      "Epoch 2/80\n",
      "194/193 [==============================] - 962s 5s/step - loss: 0.5864 - accuracy: 0.7118 - val_loss: 0.5771 - val_accuracy: 0.7026\n",
      "\n",
      "Epoch 00002: val_loss improved from 0.61699 to 0.57711, saving model to best_model.h5\n",
      "Epoch 3/80\n",
      "194/193 [==============================] - 949s 5s/step - loss: 0.5576 - accuracy: 0.7242 - val_loss: 0.5639 - val_accuracy: 0.7070\n",
      "\n",
      "Epoch 00003: val_loss improved from 0.57711 to 0.56390, saving model to best_model.h5\n",
      "Epoch 4/80\n",
      "194/193 [==============================] - 922s 5s/step - loss: 0.5417 - accuracy: 0.7348 - val_loss: 0.5545 - val_accuracy: 0.7145\n",
      "\n",
      "Epoch 00004: val_loss improved from 0.56390 to 0.55445, saving model to best_model.h5\n",
      "Epoch 5/80\n",
      "194/193 [==============================] - 1010s 5s/step - loss: 0.5323 - accuracy: 0.7410 - val_loss: 0.5451 - val_accuracy: 0.7233\n",
      "\n",
      "Epoch 00005: val_loss improved from 0.55445 to 0.54510, saving model to best_model.h5\n",
      "Epoch 6/80\n",
      "194/193 [==============================] - 900s 5s/step - loss: 0.5250 - accuracy: 0.7439 - val_loss: 0.5416 - val_accuracy: 0.7258\n",
      "\n",
      "Epoch 00006: val_loss improved from 0.54510 to 0.54162, saving model to best_model.h5\n",
      "Epoch 7/80\n",
      "194/193 [==============================] - 884s 5s/step - loss: 0.5219 - accuracy: 0.7486 - val_loss: 0.5366 - val_accuracy: 0.7312\n",
      "\n",
      "Epoch 00007: val_loss improved from 0.54162 to 0.53659, saving model to best_model.h5\n",
      "Epoch 8/80\n",
      "194/193 [==============================] - 884s 5s/step - loss: 0.5172 - accuracy: 0.7520 - val_loss: 0.5346 - val_accuracy: 0.7326\n",
      "\n",
      "Epoch 00008: val_loss improved from 0.53659 to 0.53465, saving model to best_model.h5\n",
      "Epoch 9/80\n",
      "194/193 [==============================] - 885s 5s/step - loss: 0.5135 - accuracy: 0.7528 - val_loss: 0.5337 - val_accuracy: 0.7344\n",
      "\n",
      "Epoch 00009: val_loss improved from 0.53465 to 0.53369, saving model to best_model.h5\n",
      "Epoch 10/80\n",
      "194/193 [==============================] - 788s 4s/step - loss: 0.5111 - accuracy: 0.7547 - val_loss: 0.5321 - val_accuracy: 0.7359\n",
      "\n",
      "Epoch 00010: val_loss improved from 0.53369 to 0.53209, saving model to best_model.h5\n",
      "Epoch 11/80\n",
      "194/193 [==============================] - 777s 4s/step - loss: 0.5049 - accuracy: 0.7598 - val_loss: 0.5281 - val_accuracy: 0.7394\n",
      "\n",
      "Epoch 00011: val_loss improved from 0.53209 to 0.52806, saving model to best_model.h5\n",
      "Epoch 12/80\n",
      "194/193 [==============================] - 780s 4s/step - loss: 0.5038 - accuracy: 0.7579 - val_loss: 0.5260 - val_accuracy: 0.7405\n",
      "\n",
      "Epoch 00012: val_loss improved from 0.52806 to 0.52597, saving model to best_model.h5\n",
      "Epoch 13/80\n",
      "194/193 [==============================] - 877s 5s/step - loss: 0.5015 - accuracy: 0.7620 - val_loss: 0.5273 - val_accuracy: 0.7405\n",
      "\n",
      "Epoch 00013: val_loss did not improve from 0.52597\n",
      "Epoch 14/80\n",
      "194/193 [==============================] - 883s 5s/step - loss: 0.4982 - accuracy: 0.7620 - val_loss: 0.5206 - val_accuracy: 0.7460\n",
      "\n",
      "Epoch 00014: val_loss improved from 0.52597 to 0.52057, saving model to best_model.h5\n",
      "Epoch 15/80\n",
      "194/193 [==============================] - 885s 5s/step - loss: 0.4960 - accuracy: 0.7635 - val_loss: 0.5212 - val_accuracy: 0.7459\n",
      "\n",
      "Epoch 00015: val_loss did not improve from 0.52057\n",
      "Epoch 16/80\n",
      "194/193 [==============================] - 879s 5s/step - loss: 0.4921 - accuracy: 0.7681 - val_loss: 0.5229 - val_accuracy: 0.7454\n",
      "\n",
      "Epoch 00016: val_loss did not improve from 0.52057\n",
      "Epoch 17/80\n",
      "194/193 [==============================] - 825s 4s/step - loss: 0.4916 - accuracy: 0.7677 - val_loss: 0.5184 - val_accuracy: 0.7480\n",
      "\n",
      "Epoch 00017: val_loss improved from 0.52057 to 0.51841, saving model to best_model.h5\n",
      "Epoch 18/80\n",
      "194/193 [==============================] - 790s 4s/step - loss: 0.4899 - accuracy: 0.7697 - val_loss: 0.5159 - val_accuracy: 0.7482\n",
      "\n",
      "Epoch 00018: val_loss improved from 0.51841 to 0.51591, saving model to best_model.h5\n",
      "Epoch 19/80\n",
      "194/193 [==============================] - 779s 4s/step - loss: 0.4878 - accuracy: 0.7702 - val_loss: 0.5107 - val_accuracy: 0.7552\n",
      "\n",
      "Epoch 00019: val_loss improved from 0.51591 to 0.51068, saving model to best_model.h5\n",
      "Epoch 20/80\n",
      "194/193 [==============================] - 775s 4s/step - loss: 0.4851 - accuracy: 0.7723 - val_loss: 0.5158 - val_accuracy: 0.7497\n",
      "\n",
      "Epoch 00020: val_loss did not improve from 0.51068\n",
      "Epoch 21/80\n",
      "194/193 [==============================] - 775s 4s/step - loss: 0.4844 - accuracy: 0.7737 - val_loss: 0.5094 - val_accuracy: 0.7555\n",
      "\n",
      "Epoch 00021: val_loss improved from 0.51068 to 0.50935, saving model to best_model.h5\n",
      "Epoch 22/80\n",
      "194/193 [==============================] - 775s 4s/step - loss: 0.4843 - accuracy: 0.7736 - val_loss: 0.5078 - val_accuracy: 0.7562\n",
      "\n",
      "Epoch 00022: val_loss improved from 0.50935 to 0.50779, saving model to best_model.h5\n",
      "Epoch 23/80\n",
      "194/193 [==============================] - 728s 4s/step - loss: 0.4811 - accuracy: 0.7736 - val_loss: 0.5088 - val_accuracy: 0.7552\n",
      "\n",
      "Epoch 00023: val_loss did not improve from 0.50779\n",
      "Epoch 24/80\n",
      "194/193 [==============================] - 699s 4s/step - loss: 0.4806 - accuracy: 0.7758 - val_loss: 0.5050 - val_accuracy: 0.7597\n",
      "\n",
      "Epoch 00024: val_loss improved from 0.50779 to 0.50500, saving model to best_model.h5\n",
      "Epoch 25/80\n",
      "194/193 [==============================] - 700s 4s/step - loss: 0.4795 - accuracy: 0.7753 - val_loss: 0.5092 - val_accuracy: 0.7551\n",
      "\n",
      "Epoch 00025: val_loss did not improve from 0.50500\n",
      "Epoch 26/80\n",
      "194/193 [==============================] - 698s 4s/step - loss: 0.4764 - accuracy: 0.7786 - val_loss: 0.5025 - val_accuracy: 0.7604\n",
      "\n",
      "Epoch 00026: val_loss improved from 0.50500 to 0.50255, saving model to best_model.h5\n",
      "Epoch 27/80\n",
      "194/193 [==============================] - 697s 4s/step - loss: 0.4776 - accuracy: 0.7777 - val_loss: 0.5047 - val_accuracy: 0.7590\n",
      "\n",
      "Epoch 00027: val_loss did not improve from 0.50255\n",
      "Epoch 28/80\n",
      "194/193 [==============================] - 698s 4s/step - loss: 0.4754 - accuracy: 0.7757 - val_loss: 0.5035 - val_accuracy: 0.7608\n",
      "\n",
      "Epoch 00028: val_loss did not improve from 0.50255\n",
      "Epoch 29/80\n",
      "194/193 [==============================] - 696s 4s/step - loss: 0.4746 - accuracy: 0.7797 - val_loss: 0.5068 - val_accuracy: 0.7573\n",
      "\n",
      "Epoch 00029: val_loss did not improve from 0.50255\n"
     ]
    }
   ],
   "source": [
    "batch_size = 256\n",
    "num_classes = 2\n",
    "epochs = 80\n",
    "training = model.fit_generator(datagen.flow(X_trainRosReshaped,Y_trainRosHot,batch_size=batch_size),steps_per_epoch=len(X_trainRosReshaped) / batch_size, epochs=epochs,validation_data=(X_testRosReshaped, Y_testRosHot), verbose=1, callbacks=[early_stopping_monitor, model_checkpoint])"
   ]
  }
 ],
 "metadata": {
  "kernelspec": {
   "display_name": "Python 3",
   "language": "python",
   "name": "python3"
  },
  "language_info": {
   "codemirror_mode": {
    "name": "ipython",
    "version": 3
   },
   "file_extension": ".py",
   "mimetype": "text/x-python",
   "name": "python",
   "nbconvert_exporter": "python",
   "pygments_lexer": "ipython3",
   "version": "3.7.3"
  }
 },
 "nbformat": 4,
 "nbformat_minor": 2
}
